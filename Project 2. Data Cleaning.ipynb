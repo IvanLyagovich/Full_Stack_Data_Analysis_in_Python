{
 "cells": [
  {
   "cell_type": "markdown",
   "id": "19c453fa",
   "metadata": {},
   "source": [
    "#  Data Cleaning and Transformation of eBay Computer Components Listings Dataset"
   ]
  },
  {
   "cell_type": "markdown",
   "id": "b3913780",
   "metadata": {},
   "source": [
    "## Overview\n",
    "\n",
    "This notebook demonstrates the process of cleaning and transforming a dataset of eBay listings, which contains information on the sale of computer components. The primary aim is to improve the usability of the raw dataset by cleaning the data and making necessary transformations."
   ]
  },
  {
   "cell_type": "markdown",
   "id": "795e3ccb",
   "metadata": {},
   "source": [
    "### Importing Necessary Libraries:"
   ]
  },
  {
   "cell_type": "code",
   "execution_count": 2,
   "id": "2d812601",
   "metadata": {},
   "outputs": [],
   "source": [
    "import pandas as pd\n",
    "import numpy as np\n",
    "import re"
   ]
  },
  {
   "cell_type": "markdown",
   "id": "8666beea",
   "metadata": {},
   "source": [
    "### Setting up the Display Options:"
   ]
  },
  {
   "cell_type": "code",
   "execution_count": 7,
   "id": "c47cf313",
   "metadata": {},
   "outputs": [],
   "source": [
    "pd.set_option('display.max_colwidth', 95)\n",
    "pd.set_option('display.max_rows', None)"
   ]
  },
  {
   "cell_type": "markdown",
   "id": "a761a9be",
   "metadata": {},
   "source": [
    "### Loading the Dataset:"
   ]
  },
  {
   "cell_type": "code",
   "execution_count": 8,
   "id": "1b3ae55d",
   "metadata": {},
   "outputs": [],
   "source": [
    "file_path = r\"C:\\Users\\Lyagovich\\Documents\\Portfolio\\Ebay Scraper\\ebay_listings.csv\"\n",
    "df= pd.read_csv(file_path)\n",
    "df1 = df.copy()"
   ]
  },
  {
   "cell_type": "markdown",
   "id": "0ca18c6b",
   "metadata": {},
   "source": [
    "### Displaying Dataset Information and Preview:"
   ]
  },
  {
   "cell_type": "code",
   "execution_count": 5,
   "id": "e18af443",
   "metadata": {},
   "outputs": [
    {
     "name": "stdout",
     "output_type": "stream",
     "text": [
      "<class 'pandas.core.frame.DataFrame'>\n",
      "RangeIndex: 4803 entries, 0 to 4802\n",
      "Data columns (total 5 columns):\n",
      " #   Column     Non-Null Count  Dtype \n",
      "---  ------     --------------  ----- \n",
      " 0   title      4803 non-null   object\n",
      " 1   price      4803 non-null   object\n",
      " 2   info       4803 non-null   object\n",
      " 3   link       4803 non-null   object\n",
      " 4   sold_date  4783 non-null   object\n",
      "dtypes: object(5)\n",
      "memory usage: 187.7+ KB\n"
     ]
    },
    {
     "data": {
      "text/html": [
       "<div>\n",
       "<style scoped>\n",
       "    .dataframe tbody tr th:only-of-type {\n",
       "        vertical-align: middle;\n",
       "    }\n",
       "\n",
       "    .dataframe tbody tr th {\n",
       "        vertical-align: top;\n",
       "    }\n",
       "\n",
       "    .dataframe thead th {\n",
       "        text-align: right;\n",
       "    }\n",
       "</style>\n",
       "<table border=\"1\" class=\"dataframe\">\n",
       "  <thead>\n",
       "    <tr style=\"text-align: right;\">\n",
       "      <th></th>\n",
       "      <th>title</th>\n",
       "      <th>price</th>\n",
       "      <th>info</th>\n",
       "      <th>link</th>\n",
       "      <th>sold_date</th>\n",
       "    </tr>\n",
       "  </thead>\n",
       "  <tbody>\n",
       "    <tr>\n",
       "      <th>0</th>\n",
       "      <td>Shop on eBay</td>\n",
       "      <td>$20.00</td>\n",
       "      <td>Brand New</td>\n",
       "      <td>https://ebay.com/itm/123456?hash=item28caef0a3a:g:E3kAAOSwlGJiMikD&amp;amdata=enc%3AAQAHAAAAsJo...</td>\n",
       "      <td>NaN</td>\n",
       "    </tr>\n",
       "    <tr>\n",
       "      <th>1</th>\n",
       "      <td>New ListingASUS TUF NVIDIA GeForce RTX 3060 TI 8GB GDDR6 OC Graphics Card</td>\n",
       "      <td>$259.99</td>\n",
       "      <td>Pre-Owned · ASUS · NVIDIA GeForce RTX 3060 Ti · 8 GB</td>\n",
       "      <td>https://www.ebay.com/itm/374775205575?epid=16049131519&amp;hash=item574257cec7%3Ag%3AtS8AAOSwHC...</td>\n",
       "      <td>2023-06-26</td>\n",
       "    </tr>\n",
       "    <tr>\n",
       "      <th>2</th>\n",
       "      <td>NVIDIA GeForce RTX 2080 Super GDDR6 Founders Edition Graphics Card - 8GB</td>\n",
       "      <td>$232.50</td>\n",
       "      <td>Pre-Owned · NVIDIA · NVIDIA GeForce RTX 2080 Super · 8GB</td>\n",
       "      <td>https://www.ebay.com/itm/325700341743?epid=13036084099&amp;hash=item4bd540cfef%3Ag%3ASWoAAOSwQ4...</td>\n",
       "      <td>2023-06-26</td>\n",
       "    </tr>\n",
       "    <tr>\n",
       "      <th>3</th>\n",
       "      <td>XFX AMD Radeon RX 580 8GB GDDR5 Graphics Card - RX-580P8DFD6</td>\n",
       "      <td>$79.95</td>\n",
       "      <td>Pre-Owned · XFX · AMD Radeon RX 580 · 8 GB</td>\n",
       "      <td>https://www.ebay.com/itm/275915192201?epid=17012571362&amp;hash=item403dd3b789%3Ag%3ATJoAAOSwKp...</td>\n",
       "      <td>2023-06-26</td>\n",
       "    </tr>\n",
       "    <tr>\n",
       "      <th>4</th>\n",
       "      <td>EVGA GeForce RTX 3060 Ti XC GAMING 8GB GDDR6 Graphics Card (08G-P5-3663-KL)</td>\n",
       "      <td>$225.00</td>\n",
       "      <td>Pre-Owned · EVGA · NVIDIA GeForce RTX 3060 Ti · 8 GB</td>\n",
       "      <td>https://www.ebay.com/itm/266304790412?epid=7048188903&amp;hash=item3e01009f8c%3Ag%3AF-gAAOSwEWl...</td>\n",
       "      <td>2023-06-26</td>\n",
       "    </tr>\n",
       "  </tbody>\n",
       "</table>\n",
       "</div>"
      ],
      "text/plain": [
       "                                                                         title  \\\n",
       "0                                                                 Shop on eBay   \n",
       "1    New ListingASUS TUF NVIDIA GeForce RTX 3060 TI 8GB GDDR6 OC Graphics Card   \n",
       "2     NVIDIA GeForce RTX 2080 Super GDDR6 Founders Edition Graphics Card - 8GB   \n",
       "3                 XFX AMD Radeon RX 580 8GB GDDR5 Graphics Card - RX-580P8DFD6   \n",
       "4  EVGA GeForce RTX 3060 Ti XC GAMING 8GB GDDR6 Graphics Card (08G-P5-3663-KL)   \n",
       "\n",
       "     price                                                      info  \\\n",
       "0   $20.00                                                 Brand New   \n",
       "1  $259.99      Pre-Owned · ASUS · NVIDIA GeForce RTX 3060 Ti · 8 GB   \n",
       "2  $232.50  Pre-Owned · NVIDIA · NVIDIA GeForce RTX 2080 Super · 8GB   \n",
       "3   $79.95                Pre-Owned · XFX · AMD Radeon RX 580 · 8 GB   \n",
       "4  $225.00      Pre-Owned · EVGA · NVIDIA GeForce RTX 3060 Ti · 8 GB   \n",
       "\n",
       "                                                                                             link  \\\n",
       "0  https://ebay.com/itm/123456?hash=item28caef0a3a:g:E3kAAOSwlGJiMikD&amdata=enc%3AAQAHAAAAsJo...   \n",
       "1  https://www.ebay.com/itm/374775205575?epid=16049131519&hash=item574257cec7%3Ag%3AtS8AAOSwHC...   \n",
       "2  https://www.ebay.com/itm/325700341743?epid=13036084099&hash=item4bd540cfef%3Ag%3ASWoAAOSwQ4...   \n",
       "3  https://www.ebay.com/itm/275915192201?epid=17012571362&hash=item403dd3b789%3Ag%3ATJoAAOSwKp...   \n",
       "4  https://www.ebay.com/itm/266304790412?epid=7048188903&hash=item3e01009f8c%3Ag%3AF-gAAOSwEWl...   \n",
       "\n",
       "    sold_date  \n",
       "0         NaN  \n",
       "1  2023-06-26  \n",
       "2  2023-06-26  \n",
       "3  2023-06-26  \n",
       "4  2023-06-26  "
      ]
     },
     "execution_count": 5,
     "metadata": {},
     "output_type": "execute_result"
    }
   ],
   "source": [
    "df1.info()\n",
    "df1.head(5)"
   ]
  },
  {
   "cell_type": "markdown",
   "id": "6296421a",
   "metadata": {},
   "source": [
    "### Handling Missing Data:"
   ]
  },
  {
   "cell_type": "code",
   "execution_count": 12,
   "id": "a0691a8a",
   "metadata": {},
   "outputs": [],
   "source": [
    "df1[['condition', 'brand', 'model', 'memory']] = df1['info'].apply(lambda x: pd.Series(str(x).split('·')))\n",
    "df1[['condition', 'brand', 'model', 'memory']] = df1[['condition', 'brand', 'model', 'memory']].apply(lambda x: x.str.strip())"
   ]
  },
  {
   "cell_type": "code",
   "execution_count": 13,
   "id": "472dbd1f",
   "metadata": {},
   "outputs": [],
   "source": [
    "df1 = df1.dropna(subset=['sold_date'])\n",
    "df1['info'] = df1['info'].astype(str)\n",
    "df1 = df1.dropna(subset=['condition', 'brand', 'model', 'memory'])"
   ]
  },
  {
   "cell_type": "markdown",
   "id": "17a4aabc",
   "metadata": {},
   "source": [
    "### Modifying Brands:"
   ]
  },
  {
   "cell_type": "code",
   "execution_count": 14,
   "id": "9f742500",
   "metadata": {},
   "outputs": [],
   "source": [
    "brand_counts = df1['brand'].value_counts()\n",
    "df1 = df1[df1['brand'] != 'HP']\n",
    "df1.loc[df1['brand'] == 'Msi|Nvidia', 'brand'] = 'MSI'\n",
    "df1.loc[df1['brand'] == 'Graphics|MSI', 'brand'] = 'MSI'\n",
    "df1.loc[df1['brand'] == 'MSI|Geforce', 'brand'] = 'MSI'\n",
    "df1.loc[df1['brand'] == 'Nvidia|Pny', 'brand'] = 'PNY'\n",
    "df1['brand'] = df1['brand'].str.upper()"
   ]
  },
  {
   "cell_type": "markdown",
   "id": "c2b0cc24",
   "metadata": {},
   "source": [
    "### Cleaning 'price' Column:"
   ]
  },
  {
   "cell_type": "code",
   "execution_count": 16,
   "id": "ffaaafa8",
   "metadata": {},
   "outputs": [],
   "source": [
    "df1['price'] = df1['price'].str.replace('$', '', regex=False).replace(',', '', regex=False).astype(float)\n",
    "df1 = df1[df1['price'] != 'Tap item to see current priceSee price']"
   ]
  },
  {
   "cell_type": "markdown",
   "id": "6ec81e77",
   "metadata": {},
   "source": [
    "### Preview of Cleaned Data:"
   ]
  },
  {
   "cell_type": "code",
   "execution_count": 17,
   "id": "b2432eb3",
   "metadata": {},
   "outputs": [
    {
     "data": {
      "text/html": [
       "<div>\n",
       "<style scoped>\n",
       "    .dataframe tbody tr th:only-of-type {\n",
       "        vertical-align: middle;\n",
       "    }\n",
       "\n",
       "    .dataframe tbody tr th {\n",
       "        vertical-align: top;\n",
       "    }\n",
       "\n",
       "    .dataframe thead th {\n",
       "        text-align: right;\n",
       "    }\n",
       "</style>\n",
       "<table border=\"1\" class=\"dataframe\">\n",
       "  <thead>\n",
       "    <tr style=\"text-align: right;\">\n",
       "      <th></th>\n",
       "      <th>title</th>\n",
       "      <th>price</th>\n",
       "      <th>info</th>\n",
       "      <th>link</th>\n",
       "      <th>sold_date</th>\n",
       "      <th>condition</th>\n",
       "      <th>brand</th>\n",
       "      <th>model</th>\n",
       "      <th>memory</th>\n",
       "    </tr>\n",
       "  </thead>\n",
       "  <tbody>\n",
       "    <tr>\n",
       "      <th>1</th>\n",
       "      <td>New ListingASUS TUF NVIDIA GeForce RTX 3060 TI 8GB GDDR6 OC Graphics Card</td>\n",
       "      <td>NaN</td>\n",
       "      <td>Pre-Owned · ASUS · NVIDIA GeForce RTX 3060 Ti · 8 GB</td>\n",
       "      <td>https://www.ebay.com/itm/374775205575?epid=16049131519&amp;hash=item574257cec7%3Ag%3AtS8AAOSwHC...</td>\n",
       "      <td>2023-06-26</td>\n",
       "      <td>Pre-Owned</td>\n",
       "      <td>ASUS</td>\n",
       "      <td>NVIDIA GeForce RTX 3060 Ti</td>\n",
       "      <td>8 GB</td>\n",
       "    </tr>\n",
       "    <tr>\n",
       "      <th>2</th>\n",
       "      <td>NVIDIA GeForce RTX 2080 Super GDDR6 Founders Edition Graphics Card - 8GB</td>\n",
       "      <td>NaN</td>\n",
       "      <td>Pre-Owned · NVIDIA · NVIDIA GeForce RTX 2080 Super · 8GB</td>\n",
       "      <td>https://www.ebay.com/itm/325700341743?epid=13036084099&amp;hash=item4bd540cfef%3Ag%3ASWoAAOSwQ4...</td>\n",
       "      <td>2023-06-26</td>\n",
       "      <td>Pre-Owned</td>\n",
       "      <td>NVIDIA</td>\n",
       "      <td>NVIDIA GeForce RTX 2080 Super</td>\n",
       "      <td>8GB</td>\n",
       "    </tr>\n",
       "    <tr>\n",
       "      <th>3</th>\n",
       "      <td>XFX AMD Radeon RX 580 8GB GDDR5 Graphics Card - RX-580P8DFD6</td>\n",
       "      <td>NaN</td>\n",
       "      <td>Pre-Owned · XFX · AMD Radeon RX 580 · 8 GB</td>\n",
       "      <td>https://www.ebay.com/itm/275915192201?epid=17012571362&amp;hash=item403dd3b789%3Ag%3ATJoAAOSwKp...</td>\n",
       "      <td>2023-06-26</td>\n",
       "      <td>Pre-Owned</td>\n",
       "      <td>XFX</td>\n",
       "      <td>AMD Radeon RX 580</td>\n",
       "      <td>8 GB</td>\n",
       "    </tr>\n",
       "    <tr>\n",
       "      <th>4</th>\n",
       "      <td>EVGA GeForce RTX 3060 Ti XC GAMING 8GB GDDR6 Graphics Card (08G-P5-3663-KL)</td>\n",
       "      <td>NaN</td>\n",
       "      <td>Pre-Owned · EVGA · NVIDIA GeForce RTX 3060 Ti · 8 GB</td>\n",
       "      <td>https://www.ebay.com/itm/266304790412?epid=7048188903&amp;hash=item3e01009f8c%3Ag%3AF-gAAOSwEWl...</td>\n",
       "      <td>2023-06-26</td>\n",
       "      <td>Pre-Owned</td>\n",
       "      <td>EVGA</td>\n",
       "      <td>NVIDIA GeForce RTX 3060 Ti</td>\n",
       "      <td>8 GB</td>\n",
       "    </tr>\n",
       "    <tr>\n",
       "      <th>5</th>\n",
       "      <td>Nvidia Quadro P4000 8GB HP GDDR5 Workstation Graphics Card</td>\n",
       "      <td>NaN</td>\n",
       "      <td>Pre-Owned · NVIDIA · NVIDIA Quadro 4000 · 8 GB</td>\n",
       "      <td>https://www.ebay.com/itm/404348964911?hash=item5e2513902f%3Ag%3A5f4AAOSwafJklB5T&amp;amdata=enc...</td>\n",
       "      <td>2023-06-26</td>\n",
       "      <td>Pre-Owned</td>\n",
       "      <td>NVIDIA</td>\n",
       "      <td>NVIDIA Quadro 4000</td>\n",
       "      <td>8 GB</td>\n",
       "    </tr>\n",
       "  </tbody>\n",
       "</table>\n",
       "</div>"
      ],
      "text/plain": [
       "                                                                         title  \\\n",
       "1    New ListingASUS TUF NVIDIA GeForce RTX 3060 TI 8GB GDDR6 OC Graphics Card   \n",
       "2     NVIDIA GeForce RTX 2080 Super GDDR6 Founders Edition Graphics Card - 8GB   \n",
       "3                 XFX AMD Radeon RX 580 8GB GDDR5 Graphics Card - RX-580P8DFD6   \n",
       "4  EVGA GeForce RTX 3060 Ti XC GAMING 8GB GDDR6 Graphics Card (08G-P5-3663-KL)   \n",
       "5                   Nvidia Quadro P4000 8GB HP GDDR5 Workstation Graphics Card   \n",
       "\n",
       "   price                                                      info  \\\n",
       "1    NaN      Pre-Owned · ASUS · NVIDIA GeForce RTX 3060 Ti · 8 GB   \n",
       "2    NaN  Pre-Owned · NVIDIA · NVIDIA GeForce RTX 2080 Super · 8GB   \n",
       "3    NaN                Pre-Owned · XFX · AMD Radeon RX 580 · 8 GB   \n",
       "4    NaN      Pre-Owned · EVGA · NVIDIA GeForce RTX 3060 Ti · 8 GB   \n",
       "5    NaN            Pre-Owned · NVIDIA · NVIDIA Quadro 4000 · 8 GB   \n",
       "\n",
       "                                                                                             link  \\\n",
       "1  https://www.ebay.com/itm/374775205575?epid=16049131519&hash=item574257cec7%3Ag%3AtS8AAOSwHC...   \n",
       "2  https://www.ebay.com/itm/325700341743?epid=13036084099&hash=item4bd540cfef%3Ag%3ASWoAAOSwQ4...   \n",
       "3  https://www.ebay.com/itm/275915192201?epid=17012571362&hash=item403dd3b789%3Ag%3ATJoAAOSwKp...   \n",
       "4  https://www.ebay.com/itm/266304790412?epid=7048188903&hash=item3e01009f8c%3Ag%3AF-gAAOSwEWl...   \n",
       "5  https://www.ebay.com/itm/404348964911?hash=item5e2513902f%3Ag%3A5f4AAOSwafJklB5T&amdata=enc...   \n",
       "\n",
       "    sold_date  condition   brand                          model memory  \n",
       "1  2023-06-26  Pre-Owned    ASUS     NVIDIA GeForce RTX 3060 Ti   8 GB  \n",
       "2  2023-06-26  Pre-Owned  NVIDIA  NVIDIA GeForce RTX 2080 Super    8GB  \n",
       "3  2023-06-26  Pre-Owned     XFX              AMD Radeon RX 580   8 GB  \n",
       "4  2023-06-26  Pre-Owned    EVGA     NVIDIA GeForce RTX 3060 Ti   8 GB  \n",
       "5  2023-06-26  Pre-Owned  NVIDIA             NVIDIA Quadro 4000   8 GB  "
      ]
     },
     "execution_count": 17,
     "metadata": {},
     "output_type": "execute_result"
    }
   ],
   "source": [
    "df1.head()"
   ]
  },
  {
   "cell_type": "markdown",
   "id": "aae0a975",
   "metadata": {},
   "source": [
    "# Conclusion:\n",
    "\n",
    "This Jupyter Notebook presents an exhaustive data cleaning and preprocessing routine, devised to refine a raw eBay dataset related to sold graphics cards. The major tools implemented in this notebook consist of the Pandas library for data manipulation and Matplotlib for initial data visualization. The features manipulated and cleaned involve the product's title, its selling price, additional details, the product link, and the date it was sold.\n",
    "\n",
    "This is the second of four notebooks where we're navigating through the complete data pipeline process. Beginning with data collection in the first notebook, we'll progressively clean, organize, transform, analyze, and visualize the data.\n",
    "\n",
    "This particular notebook zeroes in on the data cleaning and preprocessing phase of the project. A series of functions are defined and used for managing missing data, splitting and reformating columns, and handling any inconsistencies in the dataset. The cleaned and preprocessed data is then stored as a CSV file, which provides a well-structured basis for future data handling, analysis, and visualization.\n"
   ]
  }
 ],
 "metadata": {
  "kernelspec": {
   "display_name": "Python 3 (ipykernel)",
   "language": "python",
   "name": "python3"
  },
  "language_info": {
   "codemirror_mode": {
    "name": "ipython",
    "version": 3
   },
   "file_extension": ".py",
   "mimetype": "text/x-python",
   "name": "python",
   "nbconvert_exporter": "python",
   "pygments_lexer": "ipython3",
   "version": "3.10.9"
  }
 },
 "nbformat": 4,
 "nbformat_minor": 5
}
